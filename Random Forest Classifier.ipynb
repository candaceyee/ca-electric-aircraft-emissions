{
 "cells": [
  {
   "cell_type": "code",
   "execution_count": 43,
   "metadata": {},
   "outputs": [],
   "source": [
    "from math import *\n",
    "import pandas as pd\n",
    "import numpy as np\n",
    "import statistics as st\n",
    "import seaborn as sns\n",
    "import matplotlib.pyplot as plt\n",
    "%matplotlib inline\n",
    "from scipy.interpolate import lagrange\n",
    "\n",
    "#ML packages\n",
    "from sklearn.model_selection import train_test_split\n",
    "from sklearn.ensemble import RandomForestClassifier\n",
    "from sklearn.ensemble import RandomForestRegressor\n",
    "from sklearn import metrics\n",
    "\n",
    "import warnings\n",
    "warnings.filterwarnings('ignore')"
   ]
  },
  {
   "cell_type": "markdown",
   "metadata": {},
   "source": [
    "## Random Forest for Determining Engine Types of Missing N-Numbers"
   ]
  },
  {
   "cell_type": "code",
   "execution_count": 17,
   "metadata": {},
   "outputs": [],
   "source": [
    "flight_data = pd.read_csv('all_CA_airports_2019.csv')\n",
    "aircraft_model_names = pd.read_csv('aircraft_model_names.csv')\n",
    "aircraft_model_names = aircraft_model_names.rename(columns = {'Unnamed: 0': 'TailNumber'})\n"
   ]
  },
  {
   "cell_type": "code",
   "execution_count": 45,
   "metadata": {},
   "outputs": [],
   "source": [
    "def od_pair_name_addition(df):\n",
    "    a = df[['Departure', 'Arrival']].values\n",
    "    a = np.sort(a)\n",
    "    a_df = pd.DataFrame(a)\n",
    "    a_df = pd.Series(a_df[0] + a_df[1])\n",
    "    insert = pd.concat([a_df, pd.Series(df.index)], axis = 1).set_index(1)\n",
    "    df_return = pd.concat([insert, df], axis = 1).rename(columns = {0: 'OD Pair Name'})\n",
    "    return df_return"
   ]
  },
  {
   "cell_type": "code",
   "execution_count": 44,
   "metadata": {},
   "outputs": [],
   "source": [
    "dfv1 = flight_data.merge(aircraft_model_names, left_on = 'TailNumber', right_on = 'TailNumber', how = 'left')\n",
    "dfv1 = dfv1.drop('ENG MFR MDL', axis = 1);\n",
    "missing = dfv1[(dfv1['MODEL'].isnull()) & ~(dfv1['AircraftType'].isnull())] #only engine model is missing; aircraft type is not missing\n",
    "not_missing = dfv1[~(dfv1['AircraftType'].isnull()) & ~(dfv1['MODEL'].isnull())] #both engine model and ac type are not misisng \n",
    "not_missing['MODEL'] = not_missing['MODEL'].str.strip()\n",
    "missing.index = missing.index.astype(int); not_missing.index = not_missing.index.astype(int)"
   ]
  },
  {
   "cell_type": "code",
   "execution_count": 48,
   "metadata": {},
   "outputs": [],
   "source": [
    "not_missing = od_pair_name_addition(not_missing)"
   ]
  },
  {
   "cell_type": "code",
   "execution_count": 49,
   "metadata": {},
   "outputs": [],
   "source": [
    "cat_features = not_missing[['OD Pair Name', 'AircraftType']]\n",
    "feature_one_hot = pd.get_dummies(data = cat_features, drop_first = True)"
   ]
  },
  {
   "cell_type": "code",
   "execution_count": 51,
   "metadata": {},
   "outputs": [],
   "source": [
    "X = pd.concat([not_missing['ActualAirborneTime'], feature_one_hot], axis = 1)\n",
    "y = not_missing['MODEL']"
   ]
  },
  {
   "cell_type": "code",
   "execution_count": 52,
   "metadata": {},
   "outputs": [],
   "source": [
    "X_train, X_test, y_train, y_test = train_test_split(X, y, test_size = 0.25)"
   ]
  },
  {
   "cell_type": "code",
   "execution_count": null,
   "metadata": {},
   "outputs": [],
   "source": [
    "model = RandomForestClassifier(n_estimators = 100, oob_score = True, n_jobs = -1, random_state = 50, \n",
    "                              max_features = 190, min_samples_leaf = 15, verbose = 2)\n",
    "model.fit(X_train, y_train)\n",
    "y_pred = model.predict(X_test)\n",
    "print(\"Accuracy:\", metrics.accuracy_score(y_test, y_pred))"
   ]
  }
 ],
 "metadata": {
  "kernelspec": {
   "display_name": "Python 3",
   "language": "python",
   "name": "python3"
  },
  "language_info": {
   "codemirror_mode": {
    "name": "ipython",
    "version": 3
   },
   "file_extension": ".py",
   "mimetype": "text/x-python",
   "name": "python",
   "nbconvert_exporter": "python",
   "pygments_lexer": "ipython3",
   "version": "3.7.6"
  }
 },
 "nbformat": 4,
 "nbformat_minor": 4
}
